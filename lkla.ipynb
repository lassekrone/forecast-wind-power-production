{
 "cells": [
  {
   "cell_type": "markdown",
   "metadata": {},
   "source": [
    "# Predicting Wind Power Production "
   ]
  },
  {
   "cell_type": "markdown",
   "metadata": {},
   "source": [
    "Import libraries"
   ]
  },
  {
   "cell_type": "code",
   "execution_count": 1,
   "metadata": {},
   "outputs": [],
   "source": [
    "from influxdb import InfluxDBClient # install via \"pip install influxdb\"\n",
    "import pandas as pd \n",
    "import seaborn as sb\n",
    "import numpy as np\n",
    "from sklearn.impute import SimpleImputer\n",
    "from sklearn.model_selection import train_test_split\n",
    "from sklearn.linear_model import LinearRegression\n",
    "import matplotlib.pyplot as plt\n",
    "from sklearn.metrics import r2_score\n",
    "from sklearn.metrics import mean_squared_error as mse\n",
    "from sklearn.compose import ColumnTransformer\n",
    "from sklearn.preprocessing import OneHotEncoder\n",
    "from sklearn.preprocessing import MinMaxScaler\n",
    "from sklearn.pipeline import Pipeline\n",
    "import joblib\n",
    "from sklearn.tree import DecisionTreeRegressor\n",
    "from sklearn.ensemble import RandomForestRegressor\n",
    "from sklearn.preprocessing import PolynomialFeatures\n",
    "from sklearn.pipeline import make_pipeline\n"
   ]
  },
  {
   "cell_type": "markdown",
   "metadata": {},
   "source": [
    "# Data discovery (incl simple linear regression models)"
   ]
  },
  {
   "cell_type": "code",
   "execution_count": 2,
   "metadata": {},
   "outputs": [],
   "source": [
    "# Retrieve the data\n",
    "client = InfluxDBClient(host='influxus.itu.dk', port=8086, username='lsda', password='icanonlyread')\n",
    "client.switch_database('orkney')\n",
    "\n",
    "def get_df(results):\n",
    "    values = results.raw[\"series\"][0][\"values\"]\n",
    "    columns = results.raw[\"series\"][0][\"columns\"]\n",
    "    df = pd.DataFrame(values, columns=columns).set_index(\"time\")\n",
    "    df.index = pd.to_datetime(df.index) # Convert to datetime-index\n",
    "    return df\n",
    "\n",
    "# Get the last 90 days of power generation data\n",
    "generation = client.query(\n",
    "    \"SELECT * FROM Generation where time > now()-90d\"\n",
    "    ) # Query written in InfluxQL\n",
    "\n",
    "# Get the last 90 days of weather forecasts with the shortest lead time\n",
    "wind  = client.query(\n",
    "    \"SELECT * FROM MetForecasts where time > now()-90d and time <= now() and Lead_hours = '1'\"\n",
    "    ) # Query written in InfluxQL\n",
    "\n",
    "\n",
    "gen_df = get_df(generation)\n",
    "wind_df = get_df(wind)"
   ]
  },
  {
   "cell_type": "code",
   "execution_count": 3,
   "metadata": {},
   "outputs": [],
   "source": [
    "wind_df1 = pd.DataFrame(wind_df[['Speed']]) # load wind forecast data\n",
    "gen_df1 = pd.DataFrame(gen_df['Total']) # load power generation data"
   ]
  },
  {
   "cell_type": "markdown",
   "metadata": {},
   "source": [
    "Wind and power data should be in the same dataframe such that we can later predict power generation from wind speed and direction. \n",
    "We concatenate the two dataframes and discover that gen_df has data points for every minute while wind_df has for every 3 hours. This results in a lot of NA values if we join on this basis. To fix this, I choose to resample the gen_df in a 3-hour interval using the mean. "
   ]
  },
  {
   "cell_type": "code",
   "execution_count": 35,
   "metadata": {},
   "outputs": [
    {
     "name": "stdout",
     "output_type": "stream",
     "text": [
      "Before resampling: (721, 1)\n",
      "After resampling: (721, 1)\n"
     ]
    },
    {
     "data": {
      "text/html": [
       "<div>\n",
       "<style scoped>\n",
       "    .dataframe tbody tr th:only-of-type {\n",
       "        vertical-align: middle;\n",
       "    }\n",
       "\n",
       "    .dataframe tbody tr th {\n",
       "        vertical-align: top;\n",
       "    }\n",
       "\n",
       "    .dataframe thead th {\n",
       "        text-align: right;\n",
       "    }\n",
       "</style>\n",
       "<table border=\"1\" class=\"dataframe\">\n",
       "  <thead>\n",
       "    <tr style=\"text-align: right;\">\n",
       "      <th></th>\n",
       "      <th>Total</th>\n",
       "    </tr>\n",
       "    <tr>\n",
       "      <th>time</th>\n",
       "      <th></th>\n",
       "    </tr>\n",
       "  </thead>\n",
       "  <tbody>\n",
       "    <tr>\n",
       "      <th>2022-09-21 06:00:00+00:00</th>\n",
       "      <td>14.193816</td>\n",
       "    </tr>\n",
       "    <tr>\n",
       "      <th>2022-09-21 09:00:00+00:00</th>\n",
       "      <td>7.213698</td>\n",
       "    </tr>\n",
       "    <tr>\n",
       "      <th>2022-09-21 12:00:00+00:00</th>\n",
       "      <td>13.378758</td>\n",
       "    </tr>\n",
       "    <tr>\n",
       "      <th>2022-09-21 15:00:00+00:00</th>\n",
       "      <td>19.611612</td>\n",
       "    </tr>\n",
       "    <tr>\n",
       "      <th>2022-09-21 18:00:00+00:00</th>\n",
       "      <td>21.287554</td>\n",
       "    </tr>\n",
       "  </tbody>\n",
       "</table>\n",
       "</div>"
      ],
      "text/plain": [
       "                               Total\n",
       "time                                \n",
       "2022-09-21 06:00:00+00:00  14.193816\n",
       "2022-09-21 09:00:00+00:00   7.213698\n",
       "2022-09-21 12:00:00+00:00  13.378758\n",
       "2022-09-21 15:00:00+00:00  19.611612\n",
       "2022-09-21 18:00:00+00:00  21.287554"
      ]
     },
     "execution_count": 35,
     "metadata": {},
     "output_type": "execute_result"
    }
   ],
   "source": [
    "print(f\"Before resampling: {gen_df1.shape}\")\n",
    "gen_df1 = gen_df1.resample('3h').mean()\n",
    "print(f\"After resampling: {gen_df1.shape}\")\n",
    "gen_df1.head()"
   ]
  },
  {
   "cell_type": "code",
   "execution_count": 36,
   "metadata": {},
   "outputs": [
    {
     "name": "stdout",
     "output_type": "stream",
     "text": [
      "Null values:\n",
      " Speed    24\n",
      "Total     1\n",
      "dtype: int64\n"
     ]
    }
   ],
   "source": [
    "# concatenate the data into one dataframe\n",
    "main_df = pd.concat([wind_df1, gen_df1], axis=1)\n",
    "# we have some null values after the join\n",
    "print(f\"Null values:\\n {main_df.isnull().sum()}\")"
   ]
  },
  {
   "cell_type": "code",
   "execution_count": 37,
   "metadata": {},
   "outputs": [
    {
     "name": "stdout",
     "output_type": "stream",
     "text": [
      "<class 'pandas.core.frame.DataFrame'>\n",
      "DatetimeIndex: 721 entries, 2022-09-21 06:00:00+00:00 to 2022-12-20 06:00:00+00:00\n",
      "Freq: 3H\n",
      "Data columns (total 1 columns):\n",
      " #   Column  Non-Null Count  Dtype  \n",
      "---  ------  --------------  -----  \n",
      " 0   Total   720 non-null    float64\n",
      "dtypes: float64(1)\n",
      "memory usage: 11.3 KB\n"
     ]
    }
   ],
   "source": [
    "gen_df1.info()"
   ]
  },
  {
   "cell_type": "code",
   "execution_count": 38,
   "metadata": {},
   "outputs": [
    {
     "data": {
      "text/html": [
       "<div>\n",
       "<style scoped>\n",
       "    .dataframe tbody tr th:only-of-type {\n",
       "        vertical-align: middle;\n",
       "    }\n",
       "\n",
       "    .dataframe tbody tr th {\n",
       "        vertical-align: top;\n",
       "    }\n",
       "\n",
       "    .dataframe thead th {\n",
       "        text-align: right;\n",
       "    }\n",
       "</style>\n",
       "<table border=\"1\" class=\"dataframe\">\n",
       "  <thead>\n",
       "    <tr style=\"text-align: right;\">\n",
       "      <th></th>\n",
       "      <th>Speed</th>\n",
       "      <th>Total</th>\n",
       "    </tr>\n",
       "    <tr>\n",
       "      <th>time</th>\n",
       "      <th></th>\n",
       "      <th></th>\n",
       "    </tr>\n",
       "  </thead>\n",
       "  <tbody>\n",
       "    <tr>\n",
       "      <th>2022-09-21 06:00:00+00:00</th>\n",
       "      <td>NaN</td>\n",
       "      <td>14.193816</td>\n",
       "    </tr>\n",
       "    <tr>\n",
       "      <th>2022-09-21 09:00:00+00:00</th>\n",
       "      <td>8.94080</td>\n",
       "      <td>7.213698</td>\n",
       "    </tr>\n",
       "    <tr>\n",
       "      <th>2022-09-21 12:00:00+00:00</th>\n",
       "      <td>8.94080</td>\n",
       "      <td>13.378758</td>\n",
       "    </tr>\n",
       "    <tr>\n",
       "      <th>2022-09-21 15:00:00+00:00</th>\n",
       "      <td>8.04672</td>\n",
       "      <td>19.611612</td>\n",
       "    </tr>\n",
       "    <tr>\n",
       "      <th>2022-09-21 18:00:00+00:00</th>\n",
       "      <td>9.83488</td>\n",
       "      <td>21.287554</td>\n",
       "    </tr>\n",
       "  </tbody>\n",
       "</table>\n",
       "</div>"
      ],
      "text/plain": [
       "                             Speed      Total\n",
       "time                                         \n",
       "2022-09-21 06:00:00+00:00      NaN  14.193816\n",
       "2022-09-21 09:00:00+00:00  8.94080   7.213698\n",
       "2022-09-21 12:00:00+00:00  8.94080  13.378758\n",
       "2022-09-21 15:00:00+00:00  8.04672  19.611612\n",
       "2022-09-21 18:00:00+00:00  9.83488  21.287554"
      ]
     },
     "execution_count": 38,
     "metadata": {},
     "output_type": "execute_result"
    }
   ],
   "source": [
    "main_df.head()"
   ]
  },
  {
   "cell_type": "markdown",
   "metadata": {},
   "source": [
    "From above we see that we the join resulted in some null values. The model we are creating later can't run with null values, so we need to fidn a way to replace those NA values. I choose to use the SimpleImputer to fill the NA values with the mean of each column."
   ]
  },
  {
   "cell_type": "code",
   "execution_count": 39,
   "metadata": {},
   "outputs": [
    {
     "data": {
      "text/plain": [
       "Speed    0\n",
       "Total    0\n",
       "dtype: int64"
      ]
     },
     "execution_count": 39,
     "metadata": {},
     "output_type": "execute_result"
    }
   ],
   "source": [
    "imp_mean = SimpleImputer(missing_values=np.nan, strategy='mean')\n",
    "df = pd.DataFrame(imp_mean.fit_transform(main_df),columns=[['Speed','Total']])\n",
    "df.isnull().sum()"
   ]
  },
  {
   "cell_type": "markdown",
   "metadata": {},
   "source": [
    "Before we start training our model, we have to prepare some training and testing data:"
   ]
  },
  {
   "cell_type": "code",
   "execution_count": 40,
   "metadata": {},
   "outputs": [],
   "source": [
    "X = df['Speed'] # independent variable\n",
    "y = df['Total'] # dependent variable\n",
    "X_train, X_test, y_train, y_test = train_test_split(X, y, test_size=0.2, random_state=42)"
   ]
  },
  {
   "cell_type": "markdown",
   "metadata": {},
   "source": [
    "Train a Linear Regression model and make some predictions"
   ]
  },
  {
   "cell_type": "code",
   "execution_count": 41,
   "metadata": {},
   "outputs": [],
   "source": [
    "# Create a linear regression model\n",
    "plt.rcParams['figure.facecolor'] = 'white'\n",
    "\n",
    "X_train = np.array(X_train).reshape(-1,1)\n",
    "X_test = np.array(X_test).reshape(-1,1)\n",
    "y_train = np.array(y_train).reshape(-1,1)\n",
    "\n",
    "reg = LinearRegression().fit(X_train, y_train)\n",
    "\n",
    "# make predictions on test data\n",
    "y_pred = reg.predict(X_test)\n",
    "#reg.score(X, y)"
   ]
  },
  {
   "cell_type": "code",
   "execution_count": 42,
   "metadata": {},
   "outputs": [
    {
     "data": {
      "image/png": "[encoded data removed]",
      "text/plain": [
       "<Figure size 432x288 with 1 Axes>"
      ]
     },
     "metadata": {},
     "output_type": "display_data"
    }
   ],
   "source": [
    "plt.scatter(X_test,y_test, color='tab:blue')\n",
    "plt.plot(X_test,y_pred, color='tab:red')\n",
    "plt.title('Simple Linear Regression Model')\n",
    "plt.xlabel('Wind Speed')\n",
    "plt.ylabel('Power Generated (MW)')\n",
    "plt.annotate(\"r-squared = {:.3f}\".format(r2_score(y_test, y_pred)), (1, 35))\n",
    "plt.annotate(\"rmse = {:.3f}\".format(mse(X_test, y_pred), squared=False), (1, 32))\n",
    "plt.savefig('SimpleLinearRegression.png')\n",
    "plt.show()"
   ]
  },
  {
   "cell_type": "code",
   "execution_count": 203,
   "metadata": {},
   "outputs": [
    {
     "name": "stdout",
     "output_type": "stream",
     "text": [
      "Price = [7.47937506] + [[ 0.         -4.23727361  1.08199904 -0.0505568 ]] * x\n",
      "r-squared: 0.63\n",
      "rmse: 8.21\n"
     ]
    }
   ],
   "source": [
    "poly_reg = PolynomialFeatures(degree=3)\n",
    "X_poly = poly_reg.fit_transform(X_train)\n",
    "regr2 = LinearRegression().fit(X_poly,y_train)\n",
    "print(f\"Price = {regr2.intercept_} + {regr2.coef_} * x\")\n",
    "y_pred = regr2.predict(poly_reg.fit_transform(X_test))\n",
    "print(f\"r-squared: {round(r2_score(y_test, y_pred),2)}\")\n",
    "print(f\"rmse: {round(mse(X_test, y_pred,squared=False),2)}\")"
   ]
  },
  {
   "cell_type": "markdown",
   "metadata": {},
   "source": [
    "Next, we try a multiple linear regression model where we use multiple independent variables to predict the power generation"
   ]
  },
  {
   "cell_type": "code",
   "execution_count": 54,
   "metadata": {},
   "outputs": [
    {
     "data": {
      "text/html": [
       "<div>\n",
       "<style scoped>\n",
       "    .dataframe tbody tr th:only-of-type {\n",
       "        vertical-align: middle;\n",
       "    }\n",
       "\n",
       "    .dataframe tbody tr th {\n",
       "        vertical-align: top;\n",
       "    }\n",
       "\n",
       "    .dataframe thead th {\n",
       "        text-align: right;\n",
       "    }\n",
       "</style>\n",
       "<table border=\"1\" class=\"dataframe\">\n",
       "  <thead>\n",
       "    <tr style=\"text-align: right;\">\n",
       "      <th></th>\n",
       "      <th>Direction</th>\n",
       "      <th>Speed</th>\n",
       "      <th>Hour</th>\n",
       "    </tr>\n",
       "    <tr>\n",
       "      <th>time</th>\n",
       "      <th></th>\n",
       "      <th></th>\n",
       "      <th></th>\n",
       "    </tr>\n",
       "  </thead>\n",
       "  <tbody>\n",
       "    <tr>\n",
       "      <th>2022-09-21 09:00:00+00:00</th>\n",
       "      <td>S</td>\n",
       "      <td>8.94080</td>\n",
       "      <td>9</td>\n",
       "    </tr>\n",
       "    <tr>\n",
       "      <th>2022-09-21 12:00:00+00:00</th>\n",
       "      <td>S</td>\n",
       "      <td>8.94080</td>\n",
       "      <td>12</td>\n",
       "    </tr>\n",
       "    <tr>\n",
       "      <th>2022-09-21 15:00:00+00:00</th>\n",
       "      <td>S</td>\n",
       "      <td>8.04672</td>\n",
       "      <td>15</td>\n",
       "    </tr>\n",
       "    <tr>\n",
       "      <th>2022-09-21 18:00:00+00:00</th>\n",
       "      <td>S</td>\n",
       "      <td>9.83488</td>\n",
       "      <td>18</td>\n",
       "    </tr>\n",
       "    <tr>\n",
       "      <th>2022-09-21 21:00:00+00:00</th>\n",
       "      <td>S</td>\n",
       "      <td>8.94080</td>\n",
       "      <td>21</td>\n",
       "    </tr>\n",
       "  </tbody>\n",
       "</table>\n",
       "</div>"
      ],
      "text/plain": [
       "                          Direction    Speed  Hour\n",
       "time                                              \n",
       "2022-09-21 09:00:00+00:00         S  8.94080     9\n",
       "2022-09-21 12:00:00+00:00         S  8.94080    12\n",
       "2022-09-21 15:00:00+00:00         S  8.04672    15\n",
       "2022-09-21 18:00:00+00:00         S  9.83488    18\n",
       "2022-09-21 21:00:00+00:00         S  8.94080    21"
      ]
     },
     "execution_count": 54,
     "metadata": {},
     "output_type": "execute_result"
    }
   ],
   "source": [
    "# only need 'Direction' and 'Speed' from the weather forecast\n",
    "wind_df2 = pd.DataFrame(wind_df[['Direction','Speed']])\n",
    "# let's add hour to our dataframe using the time index we have\n",
    "wind_df2['Hour'] = wind_df2.index.hour\n",
    "wind_df2.head()"
   ]
  },
  {
   "cell_type": "code",
   "execution_count": 55,
   "metadata": {},
   "outputs": [
    {
     "data": {
      "text/html": [
       "<div>\n",
       "<style scoped>\n",
       "    .dataframe tbody tr th:only-of-type {\n",
       "        vertical-align: middle;\n",
       "    }\n",
       "\n",
       "    .dataframe tbody tr th {\n",
       "        vertical-align: top;\n",
       "    }\n",
       "\n",
       "    .dataframe thead th {\n",
       "        text-align: right;\n",
       "    }\n",
       "</style>\n",
       "<table border=\"1\" class=\"dataframe\">\n",
       "  <thead>\n",
       "    <tr style=\"text-align: right;\">\n",
       "      <th></th>\n",
       "      <th>Total</th>\n",
       "    </tr>\n",
       "    <tr>\n",
       "      <th>time</th>\n",
       "      <th></th>\n",
       "    </tr>\n",
       "  </thead>\n",
       "  <tbody>\n",
       "    <tr>\n",
       "      <th>2022-09-21 06:00:00+00:00</th>\n",
       "      <td>14.193816</td>\n",
       "    </tr>\n",
       "    <tr>\n",
       "      <th>2022-09-21 09:00:00+00:00</th>\n",
       "      <td>7.213698</td>\n",
       "    </tr>\n",
       "    <tr>\n",
       "      <th>2022-09-21 12:00:00+00:00</th>\n",
       "      <td>13.378758</td>\n",
       "    </tr>\n",
       "    <tr>\n",
       "      <th>2022-09-21 15:00:00+00:00</th>\n",
       "      <td>19.611612</td>\n",
       "    </tr>\n",
       "    <tr>\n",
       "      <th>2022-09-21 18:00:00+00:00</th>\n",
       "      <td>21.287554</td>\n",
       "    </tr>\n",
       "  </tbody>\n",
       "</table>\n",
       "</div>"
      ],
      "text/plain": [
       "                               Total\n",
       "time                                \n",
       "2022-09-21 06:00:00+00:00  14.193816\n",
       "2022-09-21 09:00:00+00:00   7.213698\n",
       "2022-09-21 12:00:00+00:00  13.378758\n",
       "2022-09-21 15:00:00+00:00  19.611612\n",
       "2022-09-21 18:00:00+00:00  21.287554"
      ]
     },
     "execution_count": 55,
     "metadata": {},
     "output_type": "execute_result"
    }
   ],
   "source": [
    "# only need 'Total' column\n",
    "gen_df2 = pd.DataFrame(gen_df['Total'])\n",
    "# downsample by grouping from minute level to 3-hour level\n",
    "gen_df2 = gen_df2.resample('3h').mean() \n",
    "gen_df2.head()"
   ]
  },
  {
   "cell_type": "code",
   "execution_count": 56,
   "metadata": {},
   "outputs": [
    {
     "data": {
      "text/plain": [
       "Direction    24\n",
       "Speed        24\n",
       "Hour         24\n",
       "Total         1\n",
       "dtype: int64"
      ]
     },
     "execution_count": 56,
     "metadata": {},
     "output_type": "execute_result"
    }
   ],
   "source": [
    "# first, we join the two dataframes \n",
    "df = pd.concat([wind_df2,gen_df2], axis=1)\n",
    "df.isnull().sum()"
   ]
  },
  {
   "cell_type": "code",
   "execution_count": 57,
   "metadata": {},
   "outputs": [
    {
     "data": {
      "text/plain": [
       "Direction    0\n",
       "Speed        0\n",
       "Hour         0\n",
       "Total        0\n",
       "dtype: int64"
      ]
     },
     "execution_count": 57,
     "metadata": {},
     "output_type": "execute_result"
    }
   ],
   "source": [
    "# we get some NA values after our join, which is because the timestamps of the two dataframes are not exactly the same. \n",
    "# I choose to drop the NA values since it is only concerning 46 rows out of a toal 721 (6%).\n",
    "df = df.dropna()\n",
    "df.isnull().sum()"
   ]
  },
  {
   "cell_type": "code",
   "execution_count": 47,
   "metadata": {},
   "outputs": [
    {
     "name": "stderr",
     "output_type": "stream",
     "text": [
      "/var/folders/y4/plwk2b151kx5m3wc40hz9l140000gn/T/ipykernel_94568/2389746300.py:2: FutureWarning: In future versions `DataFrame.to_latex` is expected to utilise the base implementation of `Styler.to_latex` for formatting and rendering. The arguments signature may therefore change. It is recommended instead to use `DataFrame.style.to_latex` which also contains additional functionality.\n",
      "  tf.write(df.to_latex(caption=\"Concatenated dataframe\"))\n"
     ]
    }
   ],
   "source": [
    "with open('mytable.tex','w') as tf:\n",
    "    tf.write(df.to_latex(caption=\"Concatenated dataframe\"))\n",
    "#print(df.to_latex())  \n",
    "#df.head()"
   ]
  },
  {
   "cell_type": "code",
   "execution_count": 58,
   "metadata": {},
   "outputs": [
    {
     "data": {
      "text/plain": [
       "time\n",
       "2022-11-22 09:00:00+00:00     9.0\n",
       "2022-11-27 21:00:00+00:00    21.0\n",
       "2022-12-16 21:00:00+00:00    21.0\n",
       "2022-11-22 03:00:00+00:00     3.0\n",
       "2022-11-15 15:00:00+00:00    15.0\n",
       "                             ... \n",
       "2022-11-07 06:00:00+00:00     6.0\n",
       "2022-10-28 12:00:00+00:00    12.0\n",
       "2022-10-10 09:00:00+00:00     9.0\n",
       "2022-12-20 06:00:00+00:00     6.0\n",
       "2022-11-14 21:00:00+00:00    21.0\n",
       "Name: Hour, Length: 557, dtype: float64"
      ]
     },
     "execution_count": 58,
     "metadata": {},
     "output_type": "execute_result"
    }
   ],
   "source": [
    "# split our data into training and testing data\n",
    "X = df.drop(columns='Total')\n",
    "y = df['Total']\n",
    "X_train, X_test, y_train, y_test = train_test_split(X, y, test_size=0.2)\n",
    "X_train['Hour']\n",
    "\n"
   ]
  },
  {
   "cell_type": "code",
   "execution_count": 59,
   "metadata": {},
   "outputs": [
    {
     "data": {
      "text/html": [
       "<div>\n",
       "<style scoped>\n",
       "    .dataframe tbody tr th:only-of-type {\n",
       "        vertical-align: middle;\n",
       "    }\n",
       "\n",
       "    .dataframe tbody tr th {\n",
       "        vertical-align: top;\n",
       "    }\n",
       "\n",
       "    .dataframe thead th {\n",
       "        text-align: right;\n",
       "    }\n",
       "</style>\n",
       "<table border=\"1\" class=\"dataframe\">\n",
       "  <thead>\n",
       "    <tr style=\"text-align: right;\">\n",
       "      <th></th>\n",
       "      <th>MinMaxScaling__Speed</th>\n",
       "      <th>OneHotEncoder__Direction_E</th>\n",
       "      <th>OneHotEncoder__Direction_ENE</th>\n",
       "      <th>OneHotEncoder__Direction_ESE</th>\n",
       "      <th>OneHotEncoder__Direction_N</th>\n",
       "      <th>OneHotEncoder__Direction_NE</th>\n",
       "      <th>OneHotEncoder__Direction_NNE</th>\n",
       "      <th>OneHotEncoder__Direction_NNW</th>\n",
       "      <th>OneHotEncoder__Direction_NW</th>\n",
       "      <th>OneHotEncoder__Direction_S</th>\n",
       "      <th>...</th>\n",
       "      <th>OneHotEncoder__Direction_WNW</th>\n",
       "      <th>OneHotEncoder__Direction_WSW</th>\n",
       "      <th>OneHotEncoder__Hour_0.0</th>\n",
       "      <th>OneHotEncoder__Hour_3.0</th>\n",
       "      <th>OneHotEncoder__Hour_6.0</th>\n",
       "      <th>OneHotEncoder__Hour_9.0</th>\n",
       "      <th>OneHotEncoder__Hour_12.0</th>\n",
       "      <th>OneHotEncoder__Hour_15.0</th>\n",
       "      <th>OneHotEncoder__Hour_18.0</th>\n",
       "      <th>OneHotEncoder__Hour_21.0</th>\n",
       "    </tr>\n",
       "    <tr>\n",
       "      <th>time</th>\n",
       "      <th></th>\n",
       "      <th></th>\n",
       "      <th></th>\n",
       "      <th></th>\n",
       "      <th></th>\n",
       "      <th></th>\n",
       "      <th></th>\n",
       "      <th></th>\n",
       "      <th></th>\n",
       "      <th></th>\n",
       "      <th></th>\n",
       "      <th></th>\n",
       "      <th></th>\n",
       "      <th></th>\n",
       "      <th></th>\n",
       "      <th></th>\n",
       "      <th></th>\n",
       "      <th></th>\n",
       "      <th></th>\n",
       "      <th></th>\n",
       "      <th></th>\n",
       "    </tr>\n",
       "  </thead>\n",
       "  <tbody>\n",
       "    <tr>\n",
       "      <th>2022-11-22 09:00:00+00:00</th>\n",
       "      <td>0.326531</td>\n",
       "      <td>0.0</td>\n",
       "      <td>0.0</td>\n",
       "      <td>0.0</td>\n",
       "      <td>0.0</td>\n",
       "      <td>0.0</td>\n",
       "      <td>0.0</td>\n",
       "      <td>0.0</td>\n",
       "      <td>0.0</td>\n",
       "      <td>0.0</td>\n",
       "      <td>...</td>\n",
       "      <td>0.0</td>\n",
       "      <td>0.0</td>\n",
       "      <td>0.0</td>\n",
       "      <td>0.0</td>\n",
       "      <td>0.0</td>\n",
       "      <td>1.0</td>\n",
       "      <td>0.0</td>\n",
       "      <td>0.0</td>\n",
       "      <td>0.0</td>\n",
       "      <td>0.0</td>\n",
       "    </tr>\n",
       "    <tr>\n",
       "      <th>2022-11-27 21:00:00+00:00</th>\n",
       "      <td>0.469388</td>\n",
       "      <td>0.0</td>\n",
       "      <td>0.0</td>\n",
       "      <td>0.0</td>\n",
       "      <td>0.0</td>\n",
       "      <td>0.0</td>\n",
       "      <td>0.0</td>\n",
       "      <td>0.0</td>\n",
       "      <td>0.0</td>\n",
       "      <td>0.0</td>\n",
       "      <td>...</td>\n",
       "      <td>0.0</td>\n",
       "      <td>0.0</td>\n",
       "      <td>0.0</td>\n",
       "      <td>0.0</td>\n",
       "      <td>0.0</td>\n",
       "      <td>0.0</td>\n",
       "      <td>0.0</td>\n",
       "      <td>0.0</td>\n",
       "      <td>0.0</td>\n",
       "      <td>1.0</td>\n",
       "    </tr>\n",
       "    <tr>\n",
       "      <th>2022-12-16 21:00:00+00:00</th>\n",
       "      <td>0.183673</td>\n",
       "      <td>0.0</td>\n",
       "      <td>0.0</td>\n",
       "      <td>0.0</td>\n",
       "      <td>0.0</td>\n",
       "      <td>0.0</td>\n",
       "      <td>0.0</td>\n",
       "      <td>0.0</td>\n",
       "      <td>0.0</td>\n",
       "      <td>0.0</td>\n",
       "      <td>...</td>\n",
       "      <td>0.0</td>\n",
       "      <td>0.0</td>\n",
       "      <td>0.0</td>\n",
       "      <td>0.0</td>\n",
       "      <td>0.0</td>\n",
       "      <td>0.0</td>\n",
       "      <td>0.0</td>\n",
       "      <td>0.0</td>\n",
       "      <td>0.0</td>\n",
       "      <td>1.0</td>\n",
       "    </tr>\n",
       "    <tr>\n",
       "      <th>2022-11-22 03:00:00+00:00</th>\n",
       "      <td>0.469388</td>\n",
       "      <td>0.0</td>\n",
       "      <td>0.0</td>\n",
       "      <td>0.0</td>\n",
       "      <td>0.0</td>\n",
       "      <td>0.0</td>\n",
       "      <td>0.0</td>\n",
       "      <td>0.0</td>\n",
       "      <td>0.0</td>\n",
       "      <td>0.0</td>\n",
       "      <td>...</td>\n",
       "      <td>0.0</td>\n",
       "      <td>0.0</td>\n",
       "      <td>0.0</td>\n",
       "      <td>1.0</td>\n",
       "      <td>0.0</td>\n",
       "      <td>0.0</td>\n",
       "      <td>0.0</td>\n",
       "      <td>0.0</td>\n",
       "      <td>0.0</td>\n",
       "      <td>0.0</td>\n",
       "    </tr>\n",
       "    <tr>\n",
       "      <th>2022-11-15 15:00:00+00:00</th>\n",
       "      <td>0.693878</td>\n",
       "      <td>0.0</td>\n",
       "      <td>0.0</td>\n",
       "      <td>0.0</td>\n",
       "      <td>0.0</td>\n",
       "      <td>0.0</td>\n",
       "      <td>0.0</td>\n",
       "      <td>0.0</td>\n",
       "      <td>0.0</td>\n",
       "      <td>0.0</td>\n",
       "      <td>...</td>\n",
       "      <td>0.0</td>\n",
       "      <td>0.0</td>\n",
       "      <td>0.0</td>\n",
       "      <td>0.0</td>\n",
       "      <td>0.0</td>\n",
       "      <td>0.0</td>\n",
       "      <td>0.0</td>\n",
       "      <td>1.0</td>\n",
       "      <td>0.0</td>\n",
       "      <td>0.0</td>\n",
       "    </tr>\n",
       "    <tr>\n",
       "      <th>...</th>\n",
       "      <td>...</td>\n",
       "      <td>...</td>\n",
       "      <td>...</td>\n",
       "      <td>...</td>\n",
       "      <td>...</td>\n",
       "      <td>...</td>\n",
       "      <td>...</td>\n",
       "      <td>...</td>\n",
       "      <td>...</td>\n",
       "      <td>...</td>\n",
       "      <td>...</td>\n",
       "      <td>...</td>\n",
       "      <td>...</td>\n",
       "      <td>...</td>\n",
       "      <td>...</td>\n",
       "      <td>...</td>\n",
       "      <td>...</td>\n",
       "      <td>...</td>\n",
       "      <td>...</td>\n",
       "      <td>...</td>\n",
       "      <td>...</td>\n",
       "    </tr>\n",
       "    <tr>\n",
       "      <th>2022-11-07 06:00:00+00:00</th>\n",
       "      <td>0.224490</td>\n",
       "      <td>0.0</td>\n",
       "      <td>0.0</td>\n",
       "      <td>0.0</td>\n",
       "      <td>0.0</td>\n",
       "      <td>0.0</td>\n",
       "      <td>0.0</td>\n",
       "      <td>0.0</td>\n",
       "      <td>0.0</td>\n",
       "      <td>0.0</td>\n",
       "      <td>...</td>\n",
       "      <td>0.0</td>\n",
       "      <td>0.0</td>\n",
       "      <td>0.0</td>\n",
       "      <td>0.0</td>\n",
       "      <td>1.0</td>\n",
       "      <td>0.0</td>\n",
       "      <td>0.0</td>\n",
       "      <td>0.0</td>\n",
       "      <td>0.0</td>\n",
       "      <td>0.0</td>\n",
       "    </tr>\n",
       "    <tr>\n",
       "      <th>2022-10-28 12:00:00+00:00</th>\n",
       "      <td>0.408163</td>\n",
       "      <td>0.0</td>\n",
       "      <td>0.0</td>\n",
       "      <td>0.0</td>\n",
       "      <td>0.0</td>\n",
       "      <td>0.0</td>\n",
       "      <td>0.0</td>\n",
       "      <td>0.0</td>\n",
       "      <td>0.0</td>\n",
       "      <td>0.0</td>\n",
       "      <td>...</td>\n",
       "      <td>0.0</td>\n",
       "      <td>0.0</td>\n",
       "      <td>0.0</td>\n",
       "      <td>0.0</td>\n",
       "      <td>0.0</td>\n",
       "      <td>0.0</td>\n",
       "      <td>1.0</td>\n",
       "      <td>0.0</td>\n",
       "      <td>0.0</td>\n",
       "      <td>0.0</td>\n",
       "    </tr>\n",
       "    <tr>\n",
       "      <th>2022-10-10 09:00:00+00:00</th>\n",
       "      <td>0.775510</td>\n",
       "      <td>0.0</td>\n",
       "      <td>0.0</td>\n",
       "      <td>0.0</td>\n",
       "      <td>0.0</td>\n",
       "      <td>0.0</td>\n",
       "      <td>0.0</td>\n",
       "      <td>0.0</td>\n",
       "      <td>0.0</td>\n",
       "      <td>0.0</td>\n",
       "      <td>...</td>\n",
       "      <td>0.0</td>\n",
       "      <td>0.0</td>\n",
       "      <td>0.0</td>\n",
       "      <td>0.0</td>\n",
       "      <td>0.0</td>\n",
       "      <td>1.0</td>\n",
       "      <td>0.0</td>\n",
       "      <td>0.0</td>\n",
       "      <td>0.0</td>\n",
       "      <td>0.0</td>\n",
       "    </tr>\n",
       "    <tr>\n",
       "      <th>2022-12-20 06:00:00+00:00</th>\n",
       "      <td>0.469388</td>\n",
       "      <td>0.0</td>\n",
       "      <td>0.0</td>\n",
       "      <td>0.0</td>\n",
       "      <td>0.0</td>\n",
       "      <td>0.0</td>\n",
       "      <td>0.0</td>\n",
       "      <td>0.0</td>\n",
       "      <td>0.0</td>\n",
       "      <td>1.0</td>\n",
       "      <td>...</td>\n",
       "      <td>0.0</td>\n",
       "      <td>0.0</td>\n",
       "      <td>0.0</td>\n",
       "      <td>0.0</td>\n",
       "      <td>1.0</td>\n",
       "      <td>0.0</td>\n",
       "      <td>0.0</td>\n",
       "      <td>0.0</td>\n",
       "      <td>0.0</td>\n",
       "      <td>0.0</td>\n",
       "    </tr>\n",
       "    <tr>\n",
       "      <th>2022-11-14 21:00:00+00:00</th>\n",
       "      <td>0.693878</td>\n",
       "      <td>0.0</td>\n",
       "      <td>0.0</td>\n",
       "      <td>0.0</td>\n",
       "      <td>0.0</td>\n",
       "      <td>0.0</td>\n",
       "      <td>0.0</td>\n",
       "      <td>0.0</td>\n",
       "      <td>0.0</td>\n",
       "      <td>0.0</td>\n",
       "      <td>...</td>\n",
       "      <td>0.0</td>\n",
       "      <td>0.0</td>\n",
       "      <td>0.0</td>\n",
       "      <td>0.0</td>\n",
       "      <td>0.0</td>\n",
       "      <td>0.0</td>\n",
       "      <td>0.0</td>\n",
       "      <td>0.0</td>\n",
       "      <td>0.0</td>\n",
       "      <td>1.0</td>\n",
       "    </tr>\n",
       "  </tbody>\n",
       "</table>\n",
       "<p>557 rows × 25 columns</p>\n",
       "</div>"
      ],
      "text/plain": [
       "                           MinMaxScaling__Speed  OneHotEncoder__Direction_E  \\\n",
       "time                                                                          \n",
       "2022-11-22 09:00:00+00:00              0.326531                         0.0   \n",
       "2022-11-27 21:00:00+00:00              0.469388                         0.0   \n",
       "2022-12-16 21:00:00+00:00              0.183673                         0.0   \n",
       "2022-11-22 03:00:00+00:00              0.469388                         0.0   \n",
       "2022-11-15 15:00:00+00:00              0.693878                         0.0   \n",
       "...                                         ...                         ...   \n",
       "2022-11-07 06:00:00+00:00              0.224490                         0.0   \n",
       "2022-10-28 12:00:00+00:00              0.408163                         0.0   \n",
       "2022-10-10 09:00:00+00:00              0.775510                         0.0   \n",
       "2022-12-20 06:00:00+00:00              0.469388                         0.0   \n",
       "2022-11-14 21:00:00+00:00              0.693878                         0.0   \n",
       "\n",
       "                           OneHotEncoder__Direction_ENE  \\\n",
       "time                                                      \n",
       "2022-11-22 09:00:00+00:00                           0.0   \n",
       "2022-11-27 21:00:00+00:00                           0.0   \n",
       "2022-12-16 21:00:00+00:00                           0.0   \n",
       "2022-11-22 03:00:00+00:00                           0.0   \n",
       "2022-11-15 15:00:00+00:00                           0.0   \n",
       "...                                                 ...   \n",
       "2022-11-07 06:00:00+00:00                           0.0   \n",
       "2022-10-28 12:00:00+00:00                           0.0   \n",
       "2022-10-10 09:00:00+00:00                           0.0   \n",
       "2022-12-20 06:00:00+00:00                           0.0   \n",
       "2022-11-14 21:00:00+00:00                           0.0   \n",
       "\n",
       "                           OneHotEncoder__Direction_ESE  \\\n",
       "time                                                      \n",
       "2022-11-22 09:00:00+00:00                           0.0   \n",
       "2022-11-27 21:00:00+00:00                           0.0   \n",
       "2022-12-16 21:00:00+00:00                           0.0   \n",
       "2022-11-22 03:00:00+00:00                           0.0   \n",
       "2022-11-15 15:00:00+00:00                           0.0   \n",
       "...                                                 ...   \n",
       "2022-11-07 06:00:00+00:00                           0.0   \n",
       "2022-10-28 12:00:00+00:00                           0.0   \n",
       "2022-10-10 09:00:00+00:00                           0.0   \n",
       "2022-12-20 06:00:00+00:00                           0.0   \n",
       "2022-11-14 21:00:00+00:00                           0.0   \n",
       "\n",
       "                           OneHotEncoder__Direction_N  \\\n",
       "time                                                    \n",
       "2022-11-22 09:00:00+00:00                         0.0   \n",
       "2022-11-27 21:00:00+00:00                         0.0   \n",
       "2022-12-16 21:00:00+00:00                         0.0   \n",
       "2022-11-22 03:00:00+00:00                         0.0   \n",
       "2022-11-15 15:00:00+00:00                         0.0   \n",
       "...                                               ...   \n",
       "2022-11-07 06:00:00+00:00                         0.0   \n",
       "2022-10-28 12:00:00+00:00                         0.0   \n",
       "2022-10-10 09:00:00+00:00                         0.0   \n",
       "2022-12-20 06:00:00+00:00                         0.0   \n",
       "2022-11-14 21:00:00+00:00                         0.0   \n",
       "\n",
       "                           OneHotEncoder__Direction_NE  \\\n",
       "time                                                     \n",
       "2022-11-22 09:00:00+00:00                          0.0   \n",
       "2022-11-27 21:00:00+00:00                          0.0   \n",
       "2022-12-16 21:00:00+00:00                          0.0   \n",
       "2022-11-22 03:00:00+00:00                          0.0   \n",
       "2022-11-15 15:00:00+00:00                          0.0   \n",
       "...                                                ...   \n",
       "2022-11-07 06:00:00+00:00                          0.0   \n",
       "2022-10-28 12:00:00+00:00                          0.0   \n",
       "2022-10-10 09:00:00+00:00                          0.0   \n",
       "2022-12-20 06:00:00+00:00                          0.0   \n",
       "2022-11-14 21:00:00+00:00                          0.0   \n",
       "\n",
       "                           OneHotEncoder__Direction_NNE  \\\n",
       "time                                                      \n",
       "2022-11-22 09:00:00+00:00                           0.0   \n",
       "2022-11-27 21:00:00+00:00                           0.0   \n",
       "2022-12-16 21:00:00+00:00                           0.0   \n",
       "2022-11-22 03:00:00+00:00                           0.0   \n",
       "2022-11-15 15:00:00+00:00                           0.0   \n",
       "...                                                 ...   \n",
       "2022-11-07 06:00:00+00:00                           0.0   \n",
       "2022-10-28 12:00:00+00:00                           0.0   \n",
       "2022-10-10 09:00:00+00:00                           0.0   \n",
       "2022-12-20 06:00:00+00:00                           0.0   \n",
       "2022-11-14 21:00:00+00:00                           0.0   \n",
       "\n",
       "                           OneHotEncoder__Direction_NNW  \\\n",
       "time                                                      \n",
       "2022-11-22 09:00:00+00:00                           0.0   \n",
       "2022-11-27 21:00:00+00:00                           0.0   \n",
       "2022-12-16 21:00:00+00:00                           0.0   \n",
       "2022-11-22 03:00:00+00:00                           0.0   \n",
       "2022-11-15 15:00:00+00:00                           0.0   \n",
       "...                                                 ...   \n",
       "2022-11-07 06:00:00+00:00                           0.0   \n",
       "2022-10-28 12:00:00+00:00                           0.0   \n",
       "2022-10-10 09:00:00+00:00                           0.0   \n",
       "2022-12-20 06:00:00+00:00                           0.0   \n",
       "2022-11-14 21:00:00+00:00                           0.0   \n",
       "\n",
       "                           OneHotEncoder__Direction_NW  \\\n",
       "time                                                     \n",
       "2022-11-22 09:00:00+00:00                          0.0   \n",
       "2022-11-27 21:00:00+00:00                          0.0   \n",
       "2022-12-16 21:00:00+00:00                          0.0   \n",
       "2022-11-22 03:00:00+00:00                          0.0   \n",
       "2022-11-15 15:00:00+00:00                          0.0   \n",
       "...                                                ...   \n",
       "2022-11-07 06:00:00+00:00                          0.0   \n",
       "2022-10-28 12:00:00+00:00                          0.0   \n",
       "2022-10-10 09:00:00+00:00                          0.0   \n",
       "2022-12-20 06:00:00+00:00                          0.0   \n",
       "2022-11-14 21:00:00+00:00                          0.0   \n",
       "\n",
       "                           OneHotEncoder__Direction_S  ...  \\\n",
       "time                                                   ...   \n",
       "2022-11-22 09:00:00+00:00                         0.0  ...   \n",
       "2022-11-27 21:00:00+00:00                         0.0  ...   \n",
       "2022-12-16 21:00:00+00:00                         0.0  ...   \n",
       "2022-11-22 03:00:00+00:00                         0.0  ...   \n",
       "2022-11-15 15:00:00+00:00                         0.0  ...   \n",
       "...                                               ...  ...   \n",
       "2022-11-07 06:00:00+00:00                         0.0  ...   \n",
       "2022-10-28 12:00:00+00:00                         0.0  ...   \n",
       "2022-10-10 09:00:00+00:00                         0.0  ...   \n",
       "2022-12-20 06:00:00+00:00                         1.0  ...   \n",
       "2022-11-14 21:00:00+00:00                         0.0  ...   \n",
       "\n",
       "                           OneHotEncoder__Direction_WNW  \\\n",
       "time                                                      \n",
       "2022-11-22 09:00:00+00:00                           0.0   \n",
       "2022-11-27 21:00:00+00:00                           0.0   \n",
       "2022-12-16 21:00:00+00:00                           0.0   \n",
       "2022-11-22 03:00:00+00:00                           0.0   \n",
       "2022-11-15 15:00:00+00:00                           0.0   \n",
       "...                                                 ...   \n",
       "2022-11-07 06:00:00+00:00                           0.0   \n",
       "2022-10-28 12:00:00+00:00                           0.0   \n",
       "2022-10-10 09:00:00+00:00                           0.0   \n",
       "2022-12-20 06:00:00+00:00                           0.0   \n",
       "2022-11-14 21:00:00+00:00                           0.0   \n",
       "\n",
       "                           OneHotEncoder__Direction_WSW  \\\n",
       "time                                                      \n",
       "2022-11-22 09:00:00+00:00                           0.0   \n",
       "2022-11-27 21:00:00+00:00                           0.0   \n",
       "2022-12-16 21:00:00+00:00                           0.0   \n",
       "2022-11-22 03:00:00+00:00                           0.0   \n",
       "2022-11-15 15:00:00+00:00                           0.0   \n",
       "...                                                 ...   \n",
       "2022-11-07 06:00:00+00:00                           0.0   \n",
       "2022-10-28 12:00:00+00:00                           0.0   \n",
       "2022-10-10 09:00:00+00:00                           0.0   \n",
       "2022-12-20 06:00:00+00:00                           0.0   \n",
       "2022-11-14 21:00:00+00:00                           0.0   \n",
       "\n",
       "                           OneHotEncoder__Hour_0.0  OneHotEncoder__Hour_3.0  \\\n",
       "time                                                                          \n",
       "2022-11-22 09:00:00+00:00                      0.0                      0.0   \n",
       "2022-11-27 21:00:00+00:00                      0.0                      0.0   \n",
       "2022-12-16 21:00:00+00:00                      0.0                      0.0   \n",
       "2022-11-22 03:00:00+00:00                      0.0                      1.0   \n",
       "2022-11-15 15:00:00+00:00                      0.0                      0.0   \n",
       "...                                            ...                      ...   \n",
       "2022-11-07 06:00:00+00:00                      0.0                      0.0   \n",
       "2022-10-28 12:00:00+00:00                      0.0                      0.0   \n",
       "2022-10-10 09:00:00+00:00                      0.0                      0.0   \n",
       "2022-12-20 06:00:00+00:00                      0.0                      0.0   \n",
       "2022-11-14 21:00:00+00:00                      0.0                      0.0   \n",
       "\n",
       "                           OneHotEncoder__Hour_6.0  OneHotEncoder__Hour_9.0  \\\n",
       "time                                                                          \n",
       "2022-11-22 09:00:00+00:00                      0.0                      1.0   \n",
       "2022-11-27 21:00:00+00:00                      0.0                      0.0   \n",
       "2022-12-16 21:00:00+00:00                      0.0                      0.0   \n",
       "2022-11-22 03:00:00+00:00                      0.0                      0.0   \n",
       "2022-11-15 15:00:00+00:00                      0.0                      0.0   \n",
       "...                                            ...                      ...   \n",
       "2022-11-07 06:00:00+00:00                      1.0                      0.0   \n",
       "2022-10-28 12:00:00+00:00                      0.0                      0.0   \n",
       "2022-10-10 09:00:00+00:00                      0.0                      1.0   \n",
       "2022-12-20 06:00:00+00:00                      1.0                      0.0   \n",
       "2022-11-14 21:00:00+00:00                      0.0                      0.0   \n",
       "\n",
       "                           OneHotEncoder__Hour_12.0  OneHotEncoder__Hour_15.0  \\\n",
       "time                                                                            \n",
       "2022-11-22 09:00:00+00:00                       0.0                       0.0   \n",
       "2022-11-27 21:00:00+00:00                       0.0                       0.0   \n",
       "2022-12-16 21:00:00+00:00                       0.0                       0.0   \n",
       "2022-11-22 03:00:00+00:00                       0.0                       0.0   \n",
       "2022-11-15 15:00:00+00:00                       0.0                       1.0   \n",
       "...                                             ...                       ...   \n",
       "2022-11-07 06:00:00+00:00                       0.0                       0.0   \n",
       "2022-10-28 12:00:00+00:00                       1.0                       0.0   \n",
       "2022-10-10 09:00:00+00:00                       0.0                       0.0   \n",
       "2022-12-20 06:00:00+00:00                       0.0                       0.0   \n",
       "2022-11-14 21:00:00+00:00                       0.0                       0.0   \n",
       "\n",
       "                           OneHotEncoder__Hour_18.0  OneHotEncoder__Hour_21.0  \n",
       "time                                                                           \n",
       "2022-11-22 09:00:00+00:00                       0.0                       0.0  \n",
       "2022-11-27 21:00:00+00:00                       0.0                       1.0  \n",
       "2022-12-16 21:00:00+00:00                       0.0                       1.0  \n",
       "2022-11-22 03:00:00+00:00                       0.0                       0.0  \n",
       "2022-11-15 15:00:00+00:00                       0.0                       0.0  \n",
       "...                                             ...                       ...  \n",
       "2022-11-07 06:00:00+00:00                       0.0                       0.0  \n",
       "2022-10-28 12:00:00+00:00                       0.0                       0.0  \n",
       "2022-10-10 09:00:00+00:00                       0.0                       0.0  \n",
       "2022-12-20 06:00:00+00:00                       0.0                       0.0  \n",
       "2022-11-14 21:00:00+00:00                       0.0                       1.0  \n",
       "\n",
       "[557 rows x 25 columns]"
      ]
     },
     "execution_count": 59,
     "metadata": {},
     "output_type": "execute_result"
    }
   ],
   "source": [
    "# Column Transformer used to preprocess data before model training\n",
    "ct = ColumnTransformer(transformers =[\n",
    "    ('MinMaxScaling', MinMaxScaler(), ['Speed']),\n",
    "    (\"OneHotEncoder\", OneHotEncoder(handle_unknown='ignore', sparse=False), ['Direction', 'Hour']),\n",
    "], remainder ='passthrough')\n",
    "\n",
    "# result of the column transformation\n",
    "pd.DataFrame(ct.fit_transform(X_train), columns=ct.get_feature_names_out(), index=X_train.index)"
   ]
  },
  {
   "cell_type": "code",
   "execution_count": 194,
   "metadata": {},
   "outputs": [
    {
     "name": "stderr",
     "output_type": "stream",
     "text": [
      "/var/folders/y4/plwk2b151kx5m3wc40hz9l140000gn/T/ipykernel_50770/3629738109.py:3: FutureWarning: In future versions `DataFrame.to_latex` is expected to utilise the base implementation of `Styler.to_latex` for formatting and rendering. The arguments signature may therefore change. It is recommended instead to use `DataFrame.style.to_latex` which also contains additional functionality.\n",
      "  tf.write(df_out.to_latex(caption=\"MinMax scaled 'Speed' column and OneHotEncoded 'Direction' and 'Hour' columns\"))\n"
     ]
    }
   ],
   "source": [
    "df_out = pd.DataFrame(ct.fit_transform(X_train), columns=ct.get_feature_names_out(), index=X_train.index)\n",
    "with open('mytable.tex','w') as tf:\n",
    "    tf.write(df_out.to_latex(caption=\"MinMax scaled 'Speed' column and OneHotEncoded 'Direction' and 'Hour' columns\"))"
   ]
  },
  {
   "cell_type": "code",
   "execution_count": 60,
   "metadata": {},
   "outputs": [
    {
     "name": "stdout",
     "output_type": "stream",
     "text": [
      "Score: 0.57\n",
      "RMSE: 5.96\n",
      "Our linear model contains 25 coefficients\n"
     ]
    }
   ],
   "source": [
    "# Make a pipeline\n",
    "pipeline = Pipeline(steps = [\n",
    "    ('preprocessing', ct),\n",
    "    ('model', LinearRegression(fit_intercept=False))\n",
    "])\n",
    "\n",
    "# train the model\n",
    "reg_model = pipeline.fit(X_train, y_train)\n",
    "\n",
    "# evaluate the model\n",
    "print(f\"Score: {round(reg_model.score(X_train, y_train),2)}\")\n",
    "y_pred = pipeline.predict(X_test)\n",
    "print(f\"RMSE: {round(mse(y_test,y_pred,squared=False),2)}\")\n",
    "print(\"Our linear model contains\", len(pipeline.steps[1][1].coef_), \"coefficients\")"
   ]
  },
  {
   "cell_type": "code",
   "execution_count": 63,
   "metadata": {},
   "outputs": [
    {
     "data": {
      "image/png": "[encoded data removed]",
      "text/plain": [
       "<Figure size 432x288 with 1 Axes>"
      ]
     },
     "metadata": {},
     "output_type": "display_data"
    }
   ],
   "source": [
    "plt.scatter(X_test['Speed'], y_test,color='tab:blue')\n",
    "plt.scatter(X_test['Speed'], y_pred,color='tab:red')\n",
    "plt.title('Multiple Regression Model')\n",
    "plt.xlabel('Wind Speed')\n",
    "plt.ylabel('Power Generated (MW)')\n",
    "plt.annotate(\"r-squared = {:.2f}\".format(r2_score(y_test, y_pred)), (1,37))\n",
    "plt.annotate(\"RMSE = {:.2f}\".format(mse(y_test, y_pred,squared=False)), (1, 35))\n",
    "plt.savefig('Multiple Linear Regression.png')\n",
    "plt.show()"
   ]
  },
  {
   "cell_type": "code",
   "execution_count": 65,
   "metadata": {},
   "outputs": [],
   "source": [
    "# X_train = np.array(X_train).reshape(-1,1)\n",
    "# y_train = np.array(y_train).reshape(-1,1)\n",
    "# X_test = np.array(X_test).reshape(-1,1)"
   ]
  },
  {
   "cell_type": "code",
   "execution_count": 214,
   "metadata": {},
   "outputs": [
    {
     "data": {
      "text/html": [
       "<div>\n",
       "<style scoped>\n",
       "    .dataframe tbody tr th:only-of-type {\n",
       "        vertical-align: middle;\n",
       "    }\n",
       "\n",
       "    .dataframe tbody tr th {\n",
       "        vertical-align: top;\n",
       "    }\n",
       "\n",
       "    .dataframe thead th {\n",
       "        text-align: right;\n",
       "    }\n",
       "</style>\n",
       "<table border=\"1\" class=\"dataframe\">\n",
       "  <thead>\n",
       "    <tr style=\"text-align: right;\">\n",
       "      <th></th>\n",
       "      <th>Direction</th>\n",
       "      <th>Speed</th>\n",
       "      <th>Hour</th>\n",
       "      <th>Total</th>\n",
       "      <th>predicted_power</th>\n",
       "    </tr>\n",
       "  </thead>\n",
       "  <tbody>\n",
       "    <tr>\n",
       "      <th>0</th>\n",
       "      <td>ESE</td>\n",
       "      <td>5.81152</td>\n",
       "      <td>18.0</td>\n",
       "      <td>9.318094</td>\n",
       "      <td>16.831436</td>\n",
       "    </tr>\n",
       "    <tr>\n",
       "      <th>1</th>\n",
       "      <td>W</td>\n",
       "      <td>8.04672</td>\n",
       "      <td>3.0</td>\n",
       "      <td>8.867939</td>\n",
       "      <td>12.750000</td>\n",
       "    </tr>\n",
       "    <tr>\n",
       "      <th>2</th>\n",
       "      <td>S</td>\n",
       "      <td>9.83488</td>\n",
       "      <td>6.0</td>\n",
       "      <td>18.395811</td>\n",
       "      <td>22.551474</td>\n",
       "    </tr>\n",
       "    <tr>\n",
       "      <th>3</th>\n",
       "      <td>SSE</td>\n",
       "      <td>8.94080</td>\n",
       "      <td>15.0</td>\n",
       "      <td>22.208378</td>\n",
       "      <td>20.687500</td>\n",
       "    </tr>\n",
       "    <tr>\n",
       "      <th>4</th>\n",
       "      <td>SSW</td>\n",
       "      <td>4.02336</td>\n",
       "      <td>21.0</td>\n",
       "      <td>7.369278</td>\n",
       "      <td>8.187500</td>\n",
       "    </tr>\n",
       "  </tbody>\n",
       "</table>\n",
       "</div>"
      ],
      "text/plain": [
       "  Direction    Speed  Hour      Total  predicted_power\n",
       "0       ESE  5.81152  18.0   9.318094        16.831436\n",
       "1         W  8.04672   3.0   8.867939        12.750000\n",
       "2         S  9.83488   6.0  18.395811        22.551474\n",
       "3       SSE  8.94080  15.0  22.208378        20.687500\n",
       "4       SSW  4.02336  21.0   7.369278         8.187500"
      ]
     },
     "execution_count": 214,
     "metadata": {},
     "output_type": "execute_result"
    }
   ],
   "source": [
    "# let's look at how the predictions compare to the actual test dataset\n",
    "df_final = pd.concat([ \n",
    "                    X_test.reset_index(drop=True), \n",
    "                    y_test.reset_index(drop=True), \n",
    "                    pd.DataFrame(y_pred, columns=[\"predicted_power\"])\n",
    "                ], axis=1)\n",
    "df_final.head(5)"
   ]
  },
  {
   "cell_type": "code",
   "execution_count": 215,
   "metadata": {},
   "outputs": [
    {
     "name": "stderr",
     "output_type": "stream",
     "text": [
      "/var/folders/y4/plwk2b151kx5m3wc40hz9l140000gn/T/ipykernel_50770/2270775240.py:2: FutureWarning: In future versions `DataFrame.to_latex` is expected to utilise the base implementation of `Styler.to_latex` for formatting and rendering. The arguments signature may therefore change. It is recommended instead to use `DataFrame.style.to_latex` which also contains additional functionality.\n",
      "  tf.write(df_final.head().to_latex(caption=\"Concatenated dataframe\"))\n"
     ]
    }
   ],
   "source": [
    "with open('mytable.tex','w') as tf:\n",
    "    tf.write(df_final.head().to_latex(caption=\"Concatenated dataframe\"))"
   ]
  },
  {
   "cell_type": "code",
   "execution_count": 173,
   "metadata": {},
   "outputs": [],
   "source": [
    "X_test = np.array(X_test).reshape(-1,1)"
   ]
  },
  {
   "cell_type": "code",
   "execution_count": 213,
   "metadata": {},
   "outputs": [
    {
     "name": "stdout",
     "output_type": "stream",
     "text": [
      "Intercept:  0.0\n",
      "Coefficients: [('Direction', 36.78235888740439), ('Speed', 386889568253368.8), ('Hour', 386889568253362.3)]\n"
     ]
    }
   ],
   "source": [
    "print(\"Intercept: \", reg_model.named_steps['model'].intercept_)\n",
    "print(\"Coefficients:\",list(zip(X, reg_model.named_steps['model'].coef_)))\n",
    "\n",
    "# fit_intercept=False\n",
    "# Intercept:  0.0\n",
    "# Coefficients: [('Direction', 36.85281949181896), ('Speed', 513870820001.58246), ('Month', 513870819998.16754)]\n",
    "\n",
    "# fit_intercept=True\n",
    "# Intercept:  -107836935808954.48\n",
    "# Coefficients: [('Direction', 36.86939259624867), ('Speed', 31547026041676.535), ('Month', 31547026041673.0)]"
   ]
  },
  {
   "cell_type": "markdown",
   "metadata": {},
   "source": [
    "From above we can conclude the following. When we keep the multipler of all independent variables at zero, we generate 0 kW of power. \n",
    "Further, a single unit increase in 'Direction', 'Speed' or 'Month' result in a power generation increase of 36 kW, 513870820001 kW and 513870819998 kW respectively. "
   ]
  },
  {
   "cell_type": "markdown",
   "metadata": {},
   "source": [
    "# Assignment "
   ]
  },
  {
   "cell_type": "code",
   "execution_count": null,
   "metadata": {},
   "outputs": [],
   "source": [
    "import os \n",
    "host = os.getenv(\"HOST\")\n",
    "port = os.getenv(\"PORT\")\n",
    "username = os.getenv(\"USERNAME\")\n",
    "password = os.getenv(\"PASSWORD\")"
   ]
  },
  {
   "cell_type": "code",
   "execution_count": 217,
   "metadata": {},
   "outputs": [],
   "source": [
    "client = InfluxDBClient(host=host, port=port, username=username, password=password)\n",
    "client.switch_database('orkney')\n",
    "\n",
    "def get_df(results):\n",
    "    values = results.raw[\"series\"][0][\"values\"]\n",
    "    columns = results.raw[\"series\"][0][\"columns\"]\n",
    "    df = pd.DataFrame(values, columns=columns).set_index(\"time\")\n",
    "    df.index = pd.to_datetime(df.index) # Convert to datetime-index\n",
    "    return df\n",
    "\n",
    "# Get the last 90 days of power generation data\n",
    "generation = client.query(\n",
    "    \"SELECT * FROM Generation where time > now()-90d\"\n",
    "    ) # Query written in InfluxQL\n",
    "\n",
    "# Get the last 90 days of weather forecasts with the shortest lead time\n",
    "wind  = client.query(\n",
    "    \"SELECT * FROM MetForecasts where time > now()-90d and time <= now() and Lead_hours = '1'\"\n",
    "    ) # Query written in InfluxQL\n",
    "\n",
    "gen_df = get_df(generation)\n",
    "wind_df = get_df(wind)"
   ]
  },
  {
   "cell_type": "code",
   "execution_count": 176,
   "metadata": {},
   "outputs": [],
   "source": [
    "# Column Transformer used to preprocess data before model training\n",
    "trf = ColumnTransformer(transformers =[\n",
    "    ('MinMaxScaling', MinMaxScaler(), ['Speed']),\n",
    "    (\"OneHotEncoder\", OneHotEncoder(handle_unknown='ignore', sparse=False), ['Direction', 'Hour']),\n",
    "], remainder ='passthrough')\n"
   ]
  },
  {
   "cell_type": "code",
   "execution_count": 138,
   "metadata": {},
   "outputs": [],
   "source": [
    "# function to compare regression models based on rmse and save the best one to directory\n",
    "def model_comparer(new_mod, old_mod):\n",
    "    new_pred = new_mod.predict(X_test)\n",
    "    old_pred = old_mod.predict(X_test)\n",
    "    new_rmse = mse(y_test,new_pred,squared=False)\n",
    "    old_rmse = mse(y_test,old_pred,squared=False)\n",
    "    if new_rmse < old_rmse:\n",
    "        joblib.dump(new_mod, \"best_model.pkl\")\n",
    "    "
   ]
  },
  {
   "cell_type": "code",
   "execution_count": 177,
   "metadata": {},
   "outputs": [],
   "source": [
    "# function to add a hour column to dataframe\n",
    "def feature_gen(df):\n",
    "    df['Hour'] = df.index.hour\n",
    "    return df"
   ]
  },
  {
   "cell_type": "code",
   "execution_count": 248,
   "metadata": {},
   "outputs": [
    {
     "name": "stdout",
     "output_type": "stream",
     "text": [
      "Score: 0.89\n",
      "RMSE: 2.88\n"
     ]
    }
   ],
   "source": [
    "# function to add a hour column to dataframe\n",
    "def feature_gen(df):\n",
    "    df['Hour'] = df.index.hour\n",
    "    return df\n",
    "\n",
    "# Align the data frames\n",
    "gen_df = pd.DataFrame(gen_df['Total']).resample('3h').mean()\n",
    "wind_df = pd.DataFrame(wind_df[['Direction','Speed']])\n",
    "df = pd.concat([wind_df,gen_df], axis=1)\n",
    "df = df.dropna()\n",
    "\n",
    "# Feature generation\n",
    "df = feature_gen(df)\n",
    "\n",
    "X = df.drop(columns='Total')\n",
    "y = df['Total']\n",
    "X_train, X_test, y_train, y_test = train_test_split(X, y, test_size=0.2)\n",
    "\n",
    "# Make pipeline and compare models\n",
    "for reg_model in [LinearRegression(),DecisionTreeRegressor(),RandomForestRegressor()]:\n",
    "    # load stored model\n",
    "    try:\n",
    "        best_model_reloaded = joblib.load(\"best_model.pkl\")\n",
    "        # make pipeline with next regression model\n",
    "        model = make_pipeline(ct,reg_model)\n",
    "        # Fit the pipeline\n",
    "        model = model.fit(X_train,y_train)\n",
    "        # compare with newly trained and store the best one\n",
    "        model_comparer(model,best_model_reloaded)\n",
    "    except FileNotFoundError:  \n",
    "        model = make_pipeline(ct,LinearRegression())\n",
    "        model = model.fit(X_train,y_train)\n",
    "        joblib.dump(model, \"best_model.pkl\")\n",
    "\n",
    "####################################################\n",
    "## Do forecasting with the best one\n",
    "\n",
    "# Get all future forecasts regardless of lead time\n",
    "forecasts  = client.query(\n",
    "    \"SELECT * FROM MetForecasts where time > now()\"\n",
    "    ) # Query written in InfluxQL\n",
    "for_df = get_df(forecasts)\n",
    "\n",
    "# Limit to only the newest source time \n",
    "newest_source_time = for_df[\"Source_time\"].max()\n",
    "newest_forecasts = for_df.loc[for_df[\"Source_time\"] == newest_source_time].copy()\n",
    "# Preprocess the forecasts and do predictions in one fell swoop \n",
    "# using your best pipeline. Here, adding hour column\n",
    "newest_forecasts_df = pd.DataFrame(newest_forecasts[['Direction','Speed']])\n",
    "newest_forecasts_df['Hour'] = newest_forecasts_df.index.hour\n",
    "# Load best model and predict power generation based on forecasts\n",
    "best_model_reloaded = joblib.load(\"best_model.pkl\")\n",
    "preds = best_model_reloaded.predict(newest_forecasts_df)\n",
    "# evaluate the model with root mean squared error\n",
    "print(f\"Score: {round(best_model_reloaded.score(X_train, y_train),2)}\")\n",
    "y_pred = best_model_reloaded.predict(X_test)\n",
    "print(f\"RMSE: {round(mse(y_test,y_pred,squared=False),2)}\")\n",
    "#print(\"Our linear model contains\", len(best_model_reloaded.steps[1][1].coef_), \"coefficients\")\n",
    "#pipeline.predict(newest_forecasts)"
   ]
  },
  {
   "cell_type": "code",
   "execution_count": 249,
   "metadata": {},
   "outputs": [
    {
     "data": {
      "image/png": "[encoded data removed]",
      "text/plain": [
       "<Figure size 432x288 with 1 Axes>"
      ]
     },
     "metadata": {},
     "output_type": "display_data"
    }
   ],
   "source": [
    "plt.scatter(X_test['Speed'], y_test,color='tab:blue')\n",
    "plt.scatter(X_test['Speed'], y_pred,color='tab:red')\n",
    "plt.title('Random Forest Regression Model')\n",
    "plt.xlabel('Wind Speed')\n",
    "plt.ylabel('Power Generated (MW)')\n",
    "plt.annotate(\"r-squared = {:.2f}\".format(r2_score(y_test, y_pred)), (1, 32))\n",
    "plt.annotate(\"RMSE = {:.2f}\".format(mse(y_test, y_pred,squared=False)), (1, 29))\n",
    "plt.savefig('RandomForestRegression.png')\n",
    "plt.show()"
   ]
  },
  {
   "cell_type": "code",
   "execution_count": 246,
   "metadata": {},
   "outputs": [
    {
     "name": "stderr",
     "output_type": "stream",
     "text": [
      "/var/folders/y4/plwk2b151kx5m3wc40hz9l140000gn/T/ipykernel_50770/1639029512.py:8: FutureWarning: In future versions `DataFrame.to_latex` is expected to utilise the base implementation of `Styler.to_latex` for formatting and rendering. The arguments signature may therefore change. It is recommended instead to use `DataFrame.style.to_latex` which also contains additional functionality.\n",
      "  tf.write(pred.head().to_latex(caption=\"Weather forecasts and predicted power generation\"))\n"
     ]
    }
   ],
   "source": [
    "# Concatenate the test dataset (what we hope to predict as close as possible) with the predictions made by our model:\n",
    "pred = pd.concat([ \n",
    "                    newest_forecasts_df.reset_index(drop=True), \n",
    "                    pd.DataFrame(preds, columns=[\"predicted_power\"])\n",
    "                ], axis=1)\n",
    "pred.head()\n",
    "with open('mytable.tex','w') as tf:\n",
    "    tf.write(pred.head().to_latex(caption=\"Weather forecasts and predicted power generation\"))"
   ]
  },
  {
   "cell_type": "code",
   "execution_count": 244,
   "metadata": {},
   "outputs": [],
   "source": [
    "# best model\n",
    "best_model_reloaded = joblib.load(\"best_model.pkl\")\n",
    "best_model_reloaded\n",
    "y_pred = best_model_reloaded.predict(X_test)\n"
   ]
  },
  {
   "cell_type": "code",
   "execution_count": null,
   "metadata": {},
   "outputs": [],
   "source": []
  }
 ],
 "metadata": {
  "kernelspec": {
   "display_name": "Python 3.9.7 ('base')",
   "language": "python",
   "name": "python3"
  },
  "language_info": {
   "codemirror_mode": {
    "name": "ipython",
    "version": 3
   },
   "file_extension": ".py",
   "mimetype": "text/x-python",
   "name": "python",
   "nbconvert_exporter": "python",
   "pygments_lexer": "ipython3",
   "version": "3.9.7"
  },
  "orig_nbformat": 4,
  "vscode": {
   "interpreter": {
    "hash": "2febbed4fdf02dc422519255116ac452467f5c88f0438ccec73647d7161b39e5"
   }
  }
 },
 "nbformat": 4,
 "nbformat_minor": 2
}
